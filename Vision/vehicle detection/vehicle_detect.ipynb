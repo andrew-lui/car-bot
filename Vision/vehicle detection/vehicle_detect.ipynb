{
 "metadata": {
  "language_info": {
   "codemirror_mode": {
    "name": "ipython",
    "version": 3
   },
   "file_extension": ".py",
   "mimetype": "text/x-python",
   "name": "python",
   "nbconvert_exporter": "python",
   "pygments_lexer": "ipython3",
   "version": "3.7.9-final"
  },
  "orig_nbformat": 2,
  "kernelspec": {
   "name": "local",
   "display_name": "local",
   "language": "python"
  }
 },
 "nbformat": 4,
 "nbformat_minor": 2,
 "cells": [
  {
   "source": [
    "### Andrew Lui\n",
    "### 21st December 2020"
   ],
   "cell_type": "markdown",
   "metadata": {}
  },
  {
   "source": [
    "## Vehicle detection!"
   ],
   "cell_type": "markdown",
   "metadata": {}
  },
  {
   "source": [
    "### Import libraries"
   ],
   "cell_type": "markdown",
   "metadata": {}
  },
  {
   "cell_type": "code",
   "execution_count": 9,
   "metadata": {},
   "outputs": [],
   "source": [
    "import cv2\n",
    "import numpy as np\n",
    "import matplotlib.pyplot as plt"
   ]
  },
  {
   "cell_type": "code",
   "execution_count": 10,
   "metadata": {},
   "outputs": [
    {
     "output_type": "error",
     "ename": "SyntaxError",
     "evalue": "invalid syntax (<ipython-input-10-d82c1c8569a8>, line 16)",
     "traceback": [
      "\u001b[1;36m  File \u001b[1;32m\"<ipython-input-10-d82c1c8569a8>\"\u001b[1;36m, line \u001b[1;32m16\u001b[0m\n\u001b[1;33m    if cv2.waitKey(10) && 0xFF == ord('q'):\u001b[0m\n\u001b[1;37m                        ^\u001b[0m\n\u001b[1;31mSyntaxError\u001b[0m\u001b[1;31m:\u001b[0m invalid syntax\n"
     ]
    }
   ],
   "source": [
    "# capture video frames\n",
    "car_vid = cv2.VideoCapture('cars.mp4')\n",
    "\n",
    "# use cars.xml -> trained classifier \n",
    "cars_class = cv2.CascadeClassifier('cars.xml')\n",
    "\n",
    "# while the video is running...\n",
    "while(car_vid.isOpened()):\n",
    "    ret, frame = car_vid.read()\n",
    "    if ret == True:\n",
    "        gray = cv2.cvtColor(frame, cv2.COLOR_BGR2GRAY)\n",
    "        cars = cars_class.detectMultiScale(gray, 1.1, 1)\n",
    "        for (x, y, w, h) in cars:\n",
    "            cv2.rectangle(frame, (x, y), (x + w, y + h), (0, 0, 255), 2)\n",
    "            cv2.imshow('Detecting cars', frame)\n",
    "        if cv2.waitKey(10) & 0xFF == ord('q'):\n",
    "            break\n",
    "    else:\n",
    "        break\n",
    "\n",
    "car_vid.release()\n",
    "cv2.destroyAllWindows()"
   ]
  }
 ]
}